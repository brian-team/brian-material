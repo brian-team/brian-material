{
 "cells": [
  {
   "cell_type": "markdown",
   "metadata": {},
   "source": [
    "# One possible \"solution\" for the project/homework"
   ]
  },
  {
   "cell_type": "code",
   "execution_count": 1,
   "metadata": {},
   "outputs": [
    {
     "name": "stderr",
     "output_type": "stream",
     "text": [
      "/mnt/data/anaconda2/envs/brian_tutorial/lib/python3.8/site-packages/setuptools/distutils_patch.py:25: UserWarning: Distutils was imported before Setuptools. This usage is discouraged and may exhibit undesirable behaviors or errors. Please use Setuptools' objects directly or at least import Setuptools first.\n",
      "  warnings.warn(\n"
     ]
    }
   ],
   "source": [
    "from brian2 import *\n",
    "%matplotlib inline"
   ]
  },
  {
   "cell_type": "code",
   "execution_count": 2,
   "metadata": {},
   "outputs": [
    {
     "name": "stdout",
     "output_type": "stream",
     "text": [
      "Starting simulation at t=0. s for a duration of 0.5 s\n",
      "0.5 s (100%) simulated in < 1s\n",
      "Starting simulation at t=0.5 s for a duration of 1. s\n",
      "1. s (100%) simulated in 1s\n",
      "Starting simulation at t=1.5 s for a duration of 1. s\n",
      "1. s (100%) simulated in 1s\n"
     ]
    }
   ],
   "source": [
    "start_scope()\n",
    "tau = 10*ms\n",
    "sigma = 0.5\n",
    "N_E = 400\n",
    "N_I = 100\n",
    "tau_e = 50*ms\n",
    "tau_i = 5*ms\n",
    "w_ei = 5/N_I\n",
    "w_ie = 1./N_E\n",
    "w_ii = 1/N_I\n",
    "theta_stim_1 = 0\n",
    "theta_stim_2 = pi\n",
    "sigma_stim = pi/8\n",
    "strength_stim_1 = 0\n",
    "strength_stim_2 = 0\n",
    "exc_neurons = NeuronGroup(N_E, '''dv/dt = (-v + I_ee + I_ei + I_stim_1 + I_stim_2)/tau + sigma*xi*tau**-0.5: 1\n",
    "                                  # There are now two stimuli \n",
    "                                  stimulus_diff_1 = (theta - theta_stim_1 + pi)%(2*pi) - pi : radian\n",
    "                                  stimulus_diff_2 = (theta - theta_stim_2 + pi)%(2*pi) - pi : radian\n",
    "                                  I_stim_1 = strength_stim_1*exp(-stimulus_diff_1**2/(2*sigma_stim**2)) : 1\n",
    "                                  I_stim_2 = strength_stim_2*exp(-stimulus_diff_2**2/(2*sigma_stim**2)) : 1\n",
    "                                  # Synapses are modeled as exponentially decaying currents\n",
    "                                  dI_ee/dt = -I_ee/tau_e : 1\n",
    "                                  dI_ei/dt = -I_ei/tau_i : 1\n",
    "                                  theta : radian (constant)''', threshold='v>1', reset='v=0',\n",
    "                         method='euler', refractory=2*ms)\n",
    "exc_neurons.v = 'rand()*0.5'\n",
    "exc_neurons.theta = '-pi + 1.0*i/N_E*2*pi'\n",
    "\n",
    "E_to_E = Synapses(exc_neurons, exc_neurons, 'w: 1', on_pre='I_ee += w')\n",
    "E_to_E.connect(p=0.5)  # All-to-all connections with 50% probability for each pair\n",
    "sigma_struct = pi/8\n",
    "J_global = 0.00055\n",
    "J_selective = .0075*1.5\n",
    "# Synaptic strength depends on difference between preferred stimuli – neurons preferring similar stimuli\n",
    "# connect more strongly to each other\n",
    "E_to_E.w = 'J_global + J_selective*exp(-((theta_pre - theta_post + pi)%(2*pi) - pi)**2/(2*sigma_struct**2))'\n",
    "\n",
    "# Inhibitory population\n",
    "inh_neurons = NeuronGroup(N_I, '''dv/dt = (-v + I_ie + I_ii)/(5*ms) + sigma*xi*tau**-0.5: 1\n",
    "                                  dI_ie/dt = -I_ie/tau_e : 1\n",
    "                                  dI_ii/dt = -I_ii/tau_i : 1''', threshold='v>1', reset='v=0',\n",
    "                         method='euler', refractory=1*ms)\n",
    "inh_neurons.v = 'rand()*0.5'\n",
    "\n",
    "# Synaptic connections (all unspecific)\n",
    "I_to_I = Synapses(inh_neurons, inh_neurons, on_pre='I_ii -= w_ii')\n",
    "I_to_I.connect(p=0.5)\n",
    "I_to_E = Synapses(inh_neurons, exc_neurons, on_pre='I_ei -= w_ei')\n",
    "I_to_E.connect(p=0.5)\n",
    "E_to_I = Synapses(exc_neurons, inh_neurons, on_pre='I_ie += w_ie')\n",
    "E_to_I.connect(p=0.5)\n",
    "\n",
    "exc_mon = SpikeMonitor(exc_neurons)\n",
    "inh_mon = SpikeMonitor(inh_neurons)\n",
    "\n",
    "run(500*ms, report='text')\n",
    "\n",
    "# Stimulus 1 is slightly stronger\n",
    "strength_stim_1 = .8\n",
    "strength_stim_2 = .6\n",
    "run(1000*ms, report='text')\n",
    "\n",
    "strength_stim_1 = 0\n",
    "strength_stim_2 = 0\n",
    "run(1000*ms, report='text')"
   ]
  },
  {
   "cell_type": "code",
   "execution_count": 3,
   "metadata": {},
   "outputs": [
    {
     "data": {
      "image/png": "[encoded data removed]",
      "text/plain": [
       "<Figure size 432x288 with 2 Axes>"
      ]
     },
     "metadata": {
      "needs_background": "light"
     },
     "output_type": "display_data"
    }
   ],
   "source": [
    "fig, ax = plt.subplots(2, 1, gridspec_kw={'height_ratios': [1, 4]}, sharex=True)\n",
    "ax[0].plot(inh_mon.t/ms, inh_mon.i, '|');\n",
    "ax[0].set(title='inhibitory neurons', ylabel='index')\n",
    "ax[1].plot(exc_mon.t/ms, exc_neurons.theta[exc_mon.i], '|');\n",
    "ax[1].set(title='excitatory_neurons', ylabel='preferred stim', xlabel='time (ms)')\n",
    "# Mark region where stimulus is presented\n",
    "ax[0].axvspan(500, 1500, color='black', alpha=0.25, zorder=100)\n",
    "ax[1].axvspan(500, 1500, color='black', alpha=0.25, zorder=100)\n",
    "fig.tight_layout()"
   ]
  },
  {
   "cell_type": "markdown",
   "metadata": {},
   "source": [
    "The stronger stimulus gets \"selected\" and suppresses the weaker stimulus. After switching off both stimuli, the activity is sustained for about 500ms."
   ]
  }
 ],
 "metadata": {
  "kernelspec": {
   "display_name": "Python [conda env:brian_tutorial] *",
   "language": "python",
   "name": "conda-env-brian_tutorial-py"
  },
  "language_info": {
   "codemirror_mode": {
    "name": "ipython",
    "version": 3
   },
   "file_extension": ".py",
   "mimetype": "text/x-python",
   "name": "python",
   "nbconvert_exporter": "python",
   "pygments_lexer": "ipython3",
   "version": "3.8.5"
  }
 },
 "nbformat": 4,
 "nbformat_minor": 4
}
