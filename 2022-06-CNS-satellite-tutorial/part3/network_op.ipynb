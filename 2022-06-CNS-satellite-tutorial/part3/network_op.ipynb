{
 "cells": [
  {
   "cell_type": "code",
   "execution_count": null,
   "id": "cd093c16-1460-4573-a925-04816338aa1f",
   "metadata": {},
   "outputs": [],
   "source": [
    "from brian2 import *\n",
    "%matplotlib widget\n",
    "prefs.codegen.target = 'numpy'"
   ]
  },
  {
   "cell_type": "code",
   "execution_count": null,
   "id": "605d4e5d-182b-4abd-9173-d975bb09aa04",
   "metadata": {},
   "outputs": [],
   "source": [
    "start_scope()\n",
    "tau = 10*ms\n",
    "poisson_inp = PoissonGroup(100, rates=100*Hz)\n",
    "neurons = NeuronGroup(1000, 'dv/dt = -v/tau : 1 (unless refractory)',\n",
    "                      threshold='v > 1', reset='v = 0', refractory=3*ms,\n",
    "                      method='exact')\n",
    "\n",
    "syn = Synapses(poisson_inp, neurons, 'w : 1', on_pre='v += w')\n",
    "syn.connect(p=0.2)\n",
    "syn.w = 'rand()*0.1'\n",
    "\n",
    "spike_mon = SpikeMonitor(neurons)\n",
    "weight_mon = StateMonitor(syn, 'w', record=True, dt=100*ms, when='end')\n",
    "\n",
    "@network_operation(dt=100*ms)\n",
    "def update_weights(t):\n",
    "    spike_trains = spike_mon.spike_trains()\n",
    "    for idx in range(len(neurons)):\n",
    "        spikes = spike_trains[idx]\n",
    "        recent_spikes = spikes[spikes > t-100*ms]\n",
    "        if len(recent_spikes) > 5:\n",
    "            syn.w[:, idx] *= 0.9\n",
    "\n",
    "run(1*second, report='text')"
   ]
  },
  {
   "cell_type": "code",
   "execution_count": null,
   "id": "384216ee-e6dd-4834-8151-f5130173ed89",
   "metadata": {},
   "outputs": [],
   "source": [
    "max_idx = np.argmax(spike_mon.count)\n",
    "plt.figure()\n",
    "plt.plot(weight_mon.t/ms, weight_mon.w[syn.indices[:, max_idx]].T);"
   ]
  }
 ],
 "metadata": {
  "kernelspec": {
   "display_name": "Python (brian2_py39)",
   "language": "python",
   "name": "brian2_py39"
  },
  "language_info": {
   "codemirror_mode": {
    "name": "ipython",
    "version": 3
   },
   "file_extension": ".py",
   "mimetype": "text/x-python",
   "name": "python",
   "nbconvert_exporter": "python",
   "pygments_lexer": "ipython3",
   "version": "3.9.12"
  }
 },
 "nbformat": 4,
 "nbformat_minor": 5
}
