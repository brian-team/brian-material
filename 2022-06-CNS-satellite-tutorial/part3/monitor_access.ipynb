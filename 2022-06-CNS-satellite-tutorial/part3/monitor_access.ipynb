{
 "cells": [
  {
   "cell_type": "code",
   "execution_count": 1,
   "id": "c33cf1ad-fa40-46f1-9ad9-4e7b7c6007f8",
   "metadata": {},
   "outputs": [],
   "source": [
    "from brian2 import *\n",
    "%matplotlib widget\n",
    "prefs.codegen.target = 'numpy'"
   ]
  },
  {
   "cell_type": "markdown",
   "id": "8ee2eac6-e895-4797-9ca7-3eba760e603d",
   "metadata": {},
   "source": [
    "## Efficiently creating connection patterns"
   ]
  },
  {
   "cell_type": "code",
   "execution_count": 2,
   "id": "203ef590-d688-42bc-9914-06b84a53bd31",
   "metadata": {},
   "outputs": [],
   "source": [
    "# dummy neurons and synapses\n",
    "start_scope()\n",
    "neurons = NeuronGroup(200, '')\n",
    "synapses = Synapses(neurons, neurons, 'w : 1')\n",
    "synapses.connect()  # all-to-all"
   ]
  },
  {
   "cell_type": "code",
   "execution_count": 3,
   "id": "bb82db23-6547-4e93-87bc-8a6ec97638f6",
   "metadata": {},
   "outputs": [],
   "source": [
    "weight_matrix = np.load('weight_matrix.npy')"
   ]
  },
  {
   "cell_type": "code",
   "execution_count": 4,
   "id": "43d9ede5-4546-4c39-9dab-f5bc477c3c0e",
   "metadata": {},
   "outputs": [
    {
     "name": "stdout",
     "output_type": "stream",
     "text": [
      "CPU times: user 5.51 s, sys: 6.92 ms, total: 5.52 s\n",
      "Wall time: 5.54 s\n"
     ]
    }
   ],
   "source": [
    "%%time\n",
    "for source_idx in range(len(neurons)):\n",
    "    for target_idx in range(len(neurons)):\n",
    "        synapses.w[source_idx, target_idx] = weight_matrix[source_idx, target_idx]"
   ]
  },
  {
   "cell_type": "markdown",
   "id": "7b35e318-7db0-4e91-86ac-9ce9d548afa6",
   "metadata": {},
   "source": [
    "## Efficiently accessing monitored variables"
   ]
  },
  {
   "cell_type": "code",
   "execution_count": null,
   "id": "5257c9c3-1435-4dd7-b54c-3fdef96e2a93",
   "metadata": {},
   "outputs": [
    {
     "name": "stdout",
     "output_type": "stream",
     "text": [
      "Starting simulation at t=0. s for a duration of 10. s\n"
     ]
    }
   ],
   "source": [
    "start_scope()\n",
    "\n",
    "area = 20000*umetre**2\n",
    "Cm = 1*ufarad*cm**-2 * area\n",
    "gl = 5e-5*siemens*cm**-2 * area\n",
    "El = -65*mV\n",
    "EK = -90*mV\n",
    "ENa = 50*mV\n",
    "g_na = 100*msiemens*cm**-2 * area\n",
    "g_kd = 30*msiemens*cm**-2 * area\n",
    "VT = -63*mV\n",
    "\n",
    "# The model\n",
    "eqs = Equations('''\n",
    "dv/dt = (gl*(El-v) - g_na*(m*m*m)*h*(v-ENa) - g_kd*(n*n*n*n)*(v-EK) + I)/Cm : volt\n",
    "dm/dt = 0.32*(mV**-1)*4*mV/exprel((13.*mV-v+VT)/(4*mV))/ms*(1-m)-0.28*(mV**-1)*5*mV/exprel((v-VT-40.*mV)/(5*mV))/ms*m : 1\n",
    "dn/dt = 0.032*(mV**-1)*5*mV/exprel((15.*mV-v+VT)/(5*mV))/ms*(1.-n)-.5*exp((10.*mV-v+VT)/(40.*mV))/ms*n : 1\n",
    "dh/dt = 0.128*exp((17.*mV-v+VT)/(18.*mV))/ms*(1.-h)-4./(1+exp((40.*mV-v+VT)/(5.*mV)))/ms*h : 1\n",
    "I : amp\n",
    "''')\n",
    "\n",
    "group = NeuronGroup(1000, eqs,\n",
    "                    threshold='v > -40*mV',\n",
    "                    refractory='v > -40*mV',\n",
    "                    method='exponential_euler')\n",
    "group.v = El\n",
    "group.I = 'rand() * 1*nA'\n",
    "\n",
    "spike_mon = SpikeMonitor(group)\n",
    "v_mon = StateMonitor(group, 'v', record=True)\n",
    "\n",
    "run(10*second, report='text')"
   ]
  },
  {
   "cell_type": "code",
   "execution_count": null,
   "id": "f88fe453-1d4d-49b3-9e91-122991d31321",
   "metadata": {},
   "outputs": [],
   "source": [
    "%%timee\n",
    "# Calculating the spike count and mean ISI (in ms) for each cell\n",
    "counts = spike_mon.count\n",
    "mean_ISIs = np.zeros(len(group))\n",
    "spike_trains = spike_mon.spike_trains()\n",
    "for neuron_idx in range(len(group)):\n",
    "    spike_times = spike_trains[neuron_idx]\n",
    "    mean_ISIs[neuron_idx] = np.mean(np.diff(spike_times/ms))"
   ]
  },
  {
   "cell_type": "code",
   "execution_count": null,
   "id": "9a593594",
   "metadata": {},
   "outputs": [],
   "source": [
    "%%timee\n",
    "# Calculating the spike count and mean ISI (in ms) for each cell\n",
    "counts = spike_mon.count\n",
    "mean_ISIs = np.zeros(len(group))\n",
    "spike_trains = spike_mon.spike_trains()\n",
    "for neuron_idx in range(len(group)):\n",
    "    spike_times = spike_trains[neuron_idx]\n",
    "    mean_ISIs[neuron_idx] = np.mean(np.diff(spike_times/ms))"
   ]
  }
 ],
 "metadata": {
  "kernelspec": {
   "display_name": "Python (brian2_py39)",
   "language": "python",
   "name": "brian2_py39"
  },
  "language_info": {
   "codemirror_mode": {
    "name": "ipython",
    "version": 3
   },
   "file_extension": ".py",
   "mimetype": "text/x-python",
   "name": "python",
   "nbconvert_exporter": "python",
   "pygments_lexer": "ipython3",
   "version": "3.9.12"
  }
 },
 "nbformat": 4,
 "nbformat_minor": 5
}
