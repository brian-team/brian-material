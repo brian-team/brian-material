{
 "cells": [
  {
   "cell_type": "code",
   "execution_count": null,
   "id": "d59409f8-02b9-4071-ad8c-2b065e80fe5c",
   "metadata": {},
   "outputs": [],
   "source": [
    "from brian2 import *\n",
    "%matplotlib widget\n",
    "prefs.codegen.target = 'numpy'"
   ]
  },
  {
   "cell_type": "code",
   "execution_count": null,
   "id": "d9284820-0108-4b2f-bd5d-fb59b50fe86a",
   "metadata": {},
   "outputs": [],
   "source": [
    "start_scope()\n",
    "tau_m_e = 20*ms; V_t_e = -55*mV\n",
    "tau_m_i = 5*ms; V_t_i = -50*mV\n",
    "tau_syn = 3*ms\n",
    "E_L = -70*mV\n",
    "w_ee = 0.001*mV\n",
    "w_ie = 0.002*mV\n",
    "w_ei = 0.0015*mV\n",
    "w_ii = 0.001*mV\n",
    "N_E, N_I = 800, 200\n",
    "\n",
    "exc_eqs = '''\n",
    "dV/dt = ((V - E_L) + I_syn) / tau_m : volt (unless refractory)\n",
    "tau_m : second\n",
    "dI_syn/dt = -I_syn/tau_syn : volt'''\n",
    "\n",
    "inh_eqs = '''\n",
    "dV/dt = ((V - E_L) + I_syn) / tau_m : volt (unless refractory)\n",
    "tau_m : second\n",
    "dI_syn/dt = -I_syn/tau_syn : volt'''\n",
    "\n",
    "exc_neurons = NeuronGroup(N_E, exc_eqs,\n",
    "                          threshold='V > V_t_e', reset='V = E_L', refractory=5*ms,\n",
    "                          method='exact')\n",
    "exc_neurons.V = 'E_L + rand()*30*mV'\n",
    "exc_neurons.tau_m = 'tau_m_e - 2*ms + rand()*4*ms'\n",
    "\n",
    "inh_neurons = NeuronGroup(N_I, inh_eqs,\n",
    "                          threshold='V > V_t_i', reset='V = E_L', refractory=5*ms,\n",
    "                          method='exact')\n",
    "inh_neurons.V = 'E_L + rand()*30*mV'\n",
    "inh_neurons.tau_m = 'tau_m_i - 1*ms + rand()*2*ms'\n",
    "\n",
    "syn_ee = Synapses(exc_neurons, exc_neurons, '', on_pre='I_syn_post += w_ee')\n",
    "syn_ee.connect(p=0.02)\n",
    "syn_ei = Synapses(exc_neurons, inh_neurons, '', on_pre= 'I_syn_post += w_ei')\n",
    "syn_ei.connect(p=0.01)\n",
    "syn_ii = Synapses(inh_neurons, inh_neurons, '', on_pre= 'I_syn_post += w_ii')\n",
    "syn_ii.connect(p=0.01)\n",
    "syn_ie = Synapses(inh_neurons, exc_neurons, '', on_pre= 'I_syn_post += w_ie')\n",
    "syn_ie.connect(p=0.04)\n",
    "\n",
    "exc_spikes = SpikeMonitor(exc_neurons)\n",
    "inh_spikes = SpikeMonitor(inh_neurons)\n",
    "\n",
    "run(1*second, report='text')"
   ]
  },
  {
   "cell_type": "code",
   "execution_count": null,
   "id": "4ec48e4a-539e-4e84-b481-59a2901e2769",
   "metadata": {},
   "outputs": [],
   "source": [
    "fig, (ax_top, ax_bottom) = plt.subplots(2, 1, sharex=True, gridspec_kw={'height_ratios': [N_E, N_I]})\n",
    "ax_top.plot(exc_spikes.t/ms, exc_spikes.i, '|')\n",
    "ax_bottom.plot(inh_spikes.t/ms, inh_spikes.i, '|')\n",
    "ax_bottom.set(xlabel='time (ms)');"
   ]
  }
 ],
 "metadata": {
  "kernelspec": {
   "display_name": "Python (brian2_py39)",
   "language": "python",
   "name": "brian2_py39"
  },
  "language_info": {
   "codemirror_mode": {
    "name": "ipython",
    "version": 3
   },
   "file_extension": ".py",
   "mimetype": "text/x-python",
   "name": "python",
   "nbconvert_exporter": "python",
   "pygments_lexer": "ipython3",
   "version": "3.9.12"
  }
 },
 "nbformat": 4,
 "nbformat_minor": 5
}
