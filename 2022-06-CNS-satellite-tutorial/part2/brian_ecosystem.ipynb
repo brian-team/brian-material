{
 "cells": [
  {
   "cell_type": "markdown",
   "metadata": {},
   "source": [
    "# Tutorial part 2\n",
    "## Useful packages in the Brian ecosystem\n",
    "\n",
    "### brian2tools: tools for visualization and import/export\n",
    "\n",
    "https://brian2tools.readthedocs.io/"
   ]
  },
  {
   "cell_type": "code",
   "execution_count": null,
   "metadata": {},
   "outputs": [],
   "source": [
    "from brian2 import *\n",
    "prefs.codegen.target = 'numpy'\n",
    "%matplotlib notebook"
   ]
  },
  {
   "cell_type": "code",
   "execution_count": null,
   "metadata": {},
   "outputs": [],
   "source": [
    "# I/F curve example for HH model\n",
    "start_scope()\n",
    "\n",
    "N = 1000\n",
    "duration = 1*second\n",
    "area = 20000*umetre**2\n",
    "Cm = 1*ufarad*cm**-2 * area\n",
    "gl = 5e-5*siemens*cm**-2 * area\n",
    "El = -65*mV\n",
    "EK = -90*mV\n",
    "ENa = 50*mV\n",
    "g_na = 100*msiemens*cm**-2 * area\n",
    "g_kd = 30*msiemens*cm**-2 * area\n",
    "VT = -63*mV\n",
    "\n",
    "# The model\n",
    "eqs = Equations('''\n",
    "dv/dt = (gl*(El-v) - g_na*(m*m*m)*h*(v-ENa) - g_kd*(n*n*n*n)*(v-EK) + I)/Cm : volt\n",
    "dm/dt = 0.32*(mV**-1)*4*mV/exprel((13.*mV-v+VT)/(4*mV))/ms*(1-m)-0.28*(mV**-1)*5*mV/exprel((v-VT-40.*mV)/(5*mV))/ms*m : 1\n",
    "dn/dt = 0.032*(mV**-1)*5*mV/exprel((15.*mV-v+VT)/(5*mV))/ms*(1.-n)-.5*exp((10.*mV-v+VT)/(40.*mV))/ms*n : 1\n",
    "dh/dt = 0.128*exp((17.*mV-v+VT)/(18.*mV))/ms*(1.-h)-4./(1+exp((40.*mV-v+VT)/(5.*mV)))/ms*h : 1\n",
    "I : amp\n",
    "''')\n",
    "# Threshold and refractoriness are only used for spike counting\n",
    "group = NeuronGroup(N, eqs,\n",
    "                    threshold='v > -40*mV',\n",
    "                    refractory='v > -40*mV',\n",
    "                    method='exponential_euler')\n",
    "group.v = El\n",
    "group.I = '0.7*nA * i / N'\n",
    "\n",
    "monitor = SpikeMonitor(group)\n",
    "v_mon = StateMonitor(group, 'v', record=True)\n",
    "\n",
    "run(duration, report='text')"
   ]
  },
  {
   "cell_type": "code",
   "execution_count": null,
   "metadata": {},
   "outputs": [],
   "source": [
    "from brian2tools import brian_plot"
   ]
  },
  {
   "cell_type": "code",
   "execution_count": null,
   "metadata": {},
   "outputs": [],
   "source": [
    "plt.figure()\n",
    "brian_plot(monitor);"
   ]
  },
  {
   "cell_type": "code",
   "execution_count": null,
   "metadata": {},
   "outputs": [],
   "source": [
    "plt.figure()\n",
    "brian_plot(v_mon[50]);"
   ]
  },
  {
   "cell_type": "code",
   "execution_count": null,
   "metadata": {},
   "outputs": [],
   "source": [
    "start_scope()\n",
    "G = NeuronGroup(10, '')\n",
    "# Random connectivity + condition\n",
    "S = Synapses(G, G)\n",
    "S.connect('i != j', p=0.5)"
   ]
  },
  {
   "cell_type": "code",
   "execution_count": null,
   "metadata": {},
   "outputs": [],
   "source": [
    "plt.figure()\n",
    "brian_plot(S);"
   ]
  },
  {
   "cell_type": "code",
   "execution_count": null,
   "metadata": {},
   "outputs": [],
   "source": [
    "start_scope()\n",
    "G = NeuronGroup(10000, '')\n",
    "S = Synapses(G, G)\n",
    "S.connect('i != j', p='exp(-abs(i - j)/250)')"
   ]
  },
  {
   "cell_type": "code",
   "execution_count": null,
   "metadata": {},
   "outputs": [],
   "source": [
    "plt.figure()\n",
    "brian_plot(S);"
   ]
  },
  {
   "cell_type": "code",
   "execution_count": null,
   "metadata": {},
   "outputs": [],
   "source": [
    "# NeuroML export\n",
    "\n",
    "import brian2tools.nmlexport\n",
    "\n",
    "start_scope()\n",
    "set_device('neuroml2', filename=\"nml2model.xml\")\n",
    "\n",
    "n = 100\n",
    "duration = 1*second\n",
    "tau = 10*ms\n",
    "\n",
    "eqs = '''\n",
    "dv/dt = (v0 - v) / tau : volt (unless refractory)\n",
    "v0 : volt\n",
    "'''\n",
    "group = NeuronGroup(n, eqs, threshold='v > 10*mV', reset='v = 0*mV',\n",
    "                    refractory=5*ms, method='exact')\n",
    "group.v = 0*mV\n",
    "group.v0 = '20*mV * i / (N-1)'\n",
    "\n",
    "rec_idx = [2, 63]\n",
    "statemonitor = StateMonitor(group, 'v', record=rec_idx)\n",
    "spikemonitor = SpikeMonitor(group, record=rec_idx)\n",
    "\n",
    "run(duration)"
   ]
  },
  {
   "cell_type": "code",
   "execution_count": null,
   "metadata": {},
   "outputs": [],
   "source": [
    "%cat nml2model.xml"
   ]
  },
  {
   "cell_type": "code",
   "execution_count": null,
   "metadata": {},
   "outputs": [],
   "source": [
    "# Markdown export\n",
    "\n",
    "import brian2tools.mdexport\n",
    "\n",
    "start_scope()\n",
    "set_device('markdown', filename=\"network\")\n",
    "\n",
    "n = 100\n",
    "duration = 1*second\n",
    "tau = 10*ms\n",
    "\n",
    "eqs = '''\n",
    "dv/dt = (v0 - v) / tau : volt (unless refractory)\n",
    "v0 : volt\n",
    "'''\n",
    "group = NeuronGroup(n, eqs, threshold='v > 10*mV', reset='v = 0*mV',\n",
    "                    refractory=5*ms, method='exact')\n",
    "group.v = 0*mV\n",
    "group.v0 = '20*mV * i / (N-1)'\n",
    "\n",
    "rec_idx = [2, 63]\n",
    "statemonitor = StateMonitor(group, 'v', record=rec_idx)\n",
    "spikemonitor = SpikeMonitor(group, record=rec_idx)\n",
    "\n",
    "run(duration)"
   ]
  },
  {
   "cell_type": "code",
   "execution_count": null,
   "metadata": {},
   "outputs": [],
   "source": [
    "%cat network.md"
   ]
  },
  {
   "cell_type": "markdown",
   "metadata": {},
   "source": [
    "### brian2modelfitting\n",
    "\n",
    "Automated model fitting and simulation-based inference"
   ]
  },
  {
   "cell_type": "code",
   "execution_count": null,
   "metadata": {},
   "outputs": [],
   "source": [
    "# Not installed on OSBv2\n",
    "%pip install brian2modelfitting\n",
    "%pip install sbi"
   ]
  },
  {
   "cell_type": "code",
   "execution_count": null,
   "metadata": {},
   "outputs": [],
   "source": [
    "from brian2 import *\n",
    "from brian2modelfitting import *\n",
    "set_device('runtime')"
   ]
  },
  {
   "cell_type": "code",
   "execution_count": null,
   "metadata": {},
   "outputs": [],
   "source": [
    "import pandas as pd\n",
    "inp_trace = pd.read_csv('input_traces_hh.csv', index_col=0).to_numpy()*amp\n",
    "out_trace = pd.read_csv('output_traces_hh.csv', index_col=0).to_numpy()*mV\n",
    "dt = 0.01*ms\n",
    "times = np.arange(inp_trace.shape[1])*dt"
   ]
  },
  {
   "cell_type": "code",
   "execution_count": null,
   "metadata": {},
   "outputs": [],
   "source": [
    "fig, (ax_left, ax_right) = plt.subplots(1, 2, figsize=(8, 4), constrained_layout=True)\n",
    "ax_left.plot(times/ms, inp_trace.T/nA)\n",
    "ax_right.plot(times/ms, out_trace.T/mV)\n",
    "ax_left.set(xlabel='time (ms)', ylabel='I (na)')\n",
    "ax_right.set(xlabel='time (ms)', ylabel='v (mV)');"
   ]
  },
  {
   "cell_type": "code",
   "execution_count": null,
   "metadata": {},
   "outputs": [],
   "source": [
    "area = 20000*umetre**2\n",
    "Cm=1*ufarad*cm**-2 * area\n",
    "El=-65*mV\n",
    "EK=-90*mV\n",
    "ENa=50*mV\n",
    "VT=-63*mV\n",
    "\n",
    "# The unknown parameter are defined as constant parameters in the model:\n",
    "model = '''\n",
    "dv/dt = (gl*(El-v) - g_na*(m*m*m)*h*(v-ENa) - g_kd*(n*n*n*n)*(v-EK) + I)/Cm : volt\n",
    "dm/dt = 0.32*(mV**-1)*(13.*mV-v+VT)/\n",
    "  (exp((13.*mV-v+VT)/(4.*mV))-1.)/ms*(1-m)-0.28*(mV**-1)*(v-VT-40.*mV)/\n",
    "  (exp((v-VT-40.*mV)/(5.*mV))-1.)/ms*m : 1\n",
    "dn/dt = 0.032*(mV**-1)*(15.*mV-v+VT)/\n",
    "  (exp((15.*mV-v+VT)/(5.*mV))-1.)/ms*(1.-n)-.5*exp((10.*mV-v+VT)/(40.*mV))/ms*n : 1\n",
    "dh/dt = 0.128*exp((17.*mV-v+VT)/(18.*mV))/ms*(1.-h)-4./(1+exp((40.*mV-v+VT)/(5.*mV)))/ms*h : 1\n",
    "g_na : siemens (constant)\n",
    "g_kd : siemens (constant)\n",
    "gl   : siemens (constant)\n",
    "'''"
   ]
  },
  {
   "cell_type": "code",
   "execution_count": null,
   "metadata": {},
   "outputs": [],
   "source": [
    "opt = NevergradOptimizer()\n",
    "metric = MSEMetric()"
   ]
  },
  {
   "cell_type": "code",
   "execution_count": null,
   "metadata": {},
   "outputs": [],
   "source": [
    "fitter = TraceFitter(model=model,\n",
    "                     input_var='I',\n",
    "                     output_var='v',\n",
    "                     input=inp_trace,\n",
    "                     output=out_trace,\n",
    "                     dt=0.01*ms,\n",
    "                     n_samples=100,\n",
    "                     method='exponential_euler',\n",
    "                     param_init={'v': -65*mV})"
   ]
  },
  {
   "cell_type": "code",
   "execution_count": null,
   "metadata": {},
   "outputs": [],
   "source": [
    "# Start fit, provide ranges for parameters\n",
    "del _exit_code  # ignore, this fixes an ugly bug with brian2modelfitting and the notebook\n",
    "area = 20000*umetre**2\n",
    "res, error = fitter.fit(n_rounds=10,\n",
    "                        optimizer=opt,\n",
    "                        metric=metric,\n",
    "                        gl=[2*psiemens, 200*nsiemens],\n",
    "                        g_na=[200*nsiemens, 0.4*msiemens],\n",
    "                        g_kd=[200*nsiemens, 200*usiemens])"
   ]
  },
  {
   "cell_type": "code",
   "execution_count": null,
   "metadata": {},
   "outputs": [],
   "source": [
    "traces = fitter.generate_traces()"
   ]
  },
  {
   "cell_type": "code",
   "execution_count": null,
   "metadata": {},
   "outputs": [],
   "source": [
    "plt.figure()\n",
    "plt.plot(times/ms, out_trace[3]/mV, label='data')\n",
    "plt.plot(times/ms, traces[3]/mV, label='fit')\n",
    "plt.legend()\n",
    "plt.xlabel('time (ms)')\n",
    "plt.ylabel('v (mV)');"
   ]
  },
  {
   "cell_type": "code",
   "execution_count": null,
   "metadata": {},
   "outputs": [],
   "source": [
    "refined_params, result_info = fitter.refine(calc_gradient=True)"
   ]
  },
  {
   "cell_type": "code",
   "execution_count": null,
   "metadata": {},
   "outputs": [],
   "source": [
    "traces = fitter.generate_traces(params=refined_params)"
   ]
  },
  {
   "cell_type": "code",
   "execution_count": null,
   "metadata": {},
   "outputs": [],
   "source": [
    "plt.figure()\n",
    "plt.plot(times/ms, out_trace[3]/mV, label='data')\n",
    "plt.plot(times/ms, traces[3]/mV, label='fit')\n",
    "plt.legend()\n",
    "plt.xlabel('time (ms)')\n",
    "plt.ylabel('v (mV)');"
   ]
  },
  {
   "cell_type": "markdown",
   "metadata": {},
   "source": [
    "Also support for *simulation-based inference*:"
   ]
  },
  {
   "cell_type": "code",
   "execution_count": null,
   "metadata": {
    "scrolled": true
   },
   "outputs": [],
   "source": [
    "%%html\n",
    "<iframe width=900 height=600 src=\"https://www.mackelab.org/sbi/\"></iframe>"
   ]
  },
  {
   "cell_type": "markdown",
   "metadata": {},
   "source": [
    "## Code generation for GPU"
   ]
  },
  {
   "cell_type": "code",
   "execution_count": null,
   "metadata": {},
   "outputs": [],
   "source": [
    "start_scope()\n",
    "set_device('cpp_standalone')\n",
    "# # GPU via GeNN simulator\n",
    "# import brian2genn\n",
    "# set_device('genn')\n",
    "\n",
    "# # GPU via CUDA code generation\n",
    "# import brian2cuda\n",
    "# set_device('cuda_standalone')\n",
    "\n",
    "# Parameters\n",
    "area = 20000*umetre**2\n",
    "Cm = (1*ufarad*cm**-2) * area\n",
    "gl = (5e-5*siemens*cm**-2) * area\n",
    "\n",
    "El = -60*mV\n",
    "EK = -90*mV\n",
    "ENa = 50*mV\n",
    "g_na = (100*msiemens*cm**-2) * area\n",
    "g_kd = (30*msiemens*cm**-2) * area\n",
    "VT = -63*mV\n",
    "# Time constants\n",
    "taue = 5*ms\n",
    "taui = 10*ms\n",
    "# Reversal potentials\n",
    "Ee = 0*mV\n",
    "Ei = -80*mV\n",
    "we = 6*psiemens  # excitatory synaptic weight\n",
    "wi = 67*psiemens  # inhibitory synaptic weight\n",
    "\n",
    "# The model\n",
    "eqs = Equations('''\n",
    "dv/dt = (gl*(El-v)+ge*(Ee-v)+gi*(Ei-v)-\n",
    "         g_na*(m*m*m)*h*(v-ENa)-\n",
    "         g_kd*(n*n*n*n)*(v-EK))/Cm : volt\n",
    "dm/dt = alpha_m*(1-m)-beta_m*m : 1\n",
    "dn/dt = alpha_n*(1-n)-beta_n*n : 1\n",
    "dh/dt = alpha_h*(1-h)-beta_h*h : 1\n",
    "dge/dt = -ge*(1./taue) : siemens\n",
    "dgi/dt = -gi*(1./taui) : siemens\n",
    "alpha_m = 0.32*(mV**-1)*(13.*mV-v+VT)/\n",
    "         (exp((13.*mV-v+VT)/(4.*mV))-1.)/ms : Hz\n",
    "beta_m = 0.28*(mV**-1.)*(v-VT-40.*mV)/\n",
    "        (exp((v-VT-40.*mV)/(5.*mV))-1.)/ms : Hz\n",
    "alpha_h = 0.128*exp((17.*mV-v+VT)/(18.*mV))/ms : Hz\n",
    "beta_h = 4./(1.+exp((40.*mV-v+VT)/(5.*mV)))/ms : Hz\n",
    "alpha_n = 0.032*(mV**-1.)*(15.*mV-v+VT)/\n",
    "         (exp((15.*mV-v+VT)/(5.*mV))-1.)/ms : Hz\n",
    "beta_n = .5*exp((10.*mV-v+VT)/(40.*mV))/ms : Hz\n",
    "''')\n",
    "\n",
    "P = NeuronGroup(40000, model=eqs, threshold='v>-20*mV', refractory=3*ms,\n",
    "                method='exponential_euler')\n",
    "Pe = P[:32000]\n",
    "Pi = P[32000:]\n",
    "Ce = Synapses(Pe, P, on_pre='ge+=we')\n",
    "Ci = Synapses(Pi, P, on_pre='gi+=wi')\n",
    "Ce.connect(p=0.02)\n",
    "Ci.connect(p=0.02)\n",
    "\n",
    "# Initialization\n",
    "P.v = 'El + (randn() * 5 - 5)*mV'\n",
    "P.ge = '(randn() * 1.5 + 4) * 10.*nS'\n",
    "P.gi = '(randn() * 12 + 20) * 10.*nS'\n",
    "\n",
    "# Record a few traces\n",
    "trace = StateMonitor(P, 'v', record=[1, 10, 100])\n",
    "run(1 * second, report='text')"
   ]
  },
  {
   "cell_type": "code",
   "execution_count": null,
   "metadata": {},
   "outputs": [],
   "source": [
    "plt.figure()\n",
    "plt.plot(trace.t/ms, trace[1].v/mV)\n",
    "plt.plot(trace.t/ms, trace[10].v/mV)\n",
    "plt.plot(trace.t/ms, trace[100].v/mV)\n",
    "plt.xlabel('t (ms)')\n",
    "plt.ylabel('v (mV)');"
   ]
  }
 ],
 "metadata": {
  "kernelspec": {
   "display_name": "Python (brian2_py39)",
   "language": "python",
   "name": "brian2_py39"
  },
  "language_info": {
   "codemirror_mode": {
    "name": "ipython",
    "version": 3
   },
   "file_extension": ".py",
   "mimetype": "text/x-python",
   "name": "python",
   "nbconvert_exporter": "python",
   "pygments_lexer": "ipython3",
   "version": "3.9.12"
  }
 },
 "nbformat": 4,
 "nbformat_minor": 4
}
