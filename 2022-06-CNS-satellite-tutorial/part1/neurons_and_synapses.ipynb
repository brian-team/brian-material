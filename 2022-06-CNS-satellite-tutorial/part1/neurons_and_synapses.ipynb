{
 "cells": [
  {
   "cell_type": "markdown",
   "metadata": {},
   "source": [
    "# Tutorial part 1\n",
    "## Neuron models"
   ]
  },
  {
   "cell_type": "code",
   "execution_count": 1,
   "metadata": {},
   "outputs": [],
   "source": [
    "from brian2 import *\n",
    "%matplotlib widget\n",
    "prefs.codegen.target = 'numpy'  # Examples are too simple for code generation"
   ]
  },
  {
   "cell_type": "markdown",
   "metadata": {},
   "source": [
    "### Leaky integrate-and-fire model"
   ]
  },
  {
   "cell_type": "code",
   "execution_count": null,
   "metadata": {},
   "outputs": [],
   "source": [
    "start_scope()  # because we run several examples in this notebook\n",
    "\n",
    "N = 1000\n",
    "duration = 1*second\n",
    "tau = 10*ms\n",
    "eqs = '''\n",
    "dv/dt = (v0 - v) / tau : volt (unless refractory)\n",
    "v0 : volt\n",
    "'''\n",
    "group = NeuronGroup(N, eqs, threshold='v > 10*mV', reset='v = 0*mV',\n",
    "                    refractory=1*ms, method='exact')\n",
    "group.v = 0*mV\n",
    "group.v0 = '20*mV* i / (N-1)'\n",
    "\n",
    "monitor = SpikeMonitor(group)\n",
    "\n",
    "run(duration)"
   ]
  },
  {
   "cell_type": "code",
   "execution_count": null,
   "metadata": {},
   "outputs": [],
   "source": [
    "# Usually a good idea to split off plotting/analysis code from simulation\n",
    "plt.figure()\n",
    "plt.plot(group.v0/mV, monitor.count / duration, 'o-')\n",
    "plt.xlabel('v0 (mV)')\n",
    "plt.ylabel('Firing rate (sp/s)');"
   ]
  },
  {
   "cell_type": "markdown",
   "metadata": {},
   "source": [
    "### Hodgkin-Huxley model"
   ]
  },
  {
   "cell_type": "code",
   "execution_count": null,
   "metadata": {},
   "outputs": [],
   "source": [
    "start_scope()\n",
    "\n",
    "area = 20000*umetre**2\n",
    "Cm = 1*ufarad*cm**-2 * area\n",
    "gl = 5e-5*siemens*cm**-2 * area\n",
    "El = -65*mV\n",
    "EK = -90*mV\n",
    "ENa = 50*mV\n",
    "g_na = 100*msiemens*cm**-2 * area\n",
    "g_kd = 30*msiemens*cm**-2 * area\n",
    "VT = -63*mV\n",
    "\n",
    "# The model\n",
    "eqs = Equations('''\n",
    "dv/dt = (gl*(El-v) - g_na*(m*m*m)*h*(v-ENa) - g_kd*(n*n*n*n)*(v-EK) + I)/Cm : volt\n",
    "dm/dt = 0.32*(mV**-1)*4*mV/exprel((13.*mV-v+VT)/(4*mV))/ms*(1-m)-0.28*(mV**-1)*5*mV/exprel((v-VT-40.*mV)/(5*mV))/ms*m : 1\n",
    "dn/dt = 0.032*(mV**-1)*5*mV/exprel((15.*mV-v+VT)/(5*mV))/ms*(1.-n)-.5*exp((10.*mV-v+VT)/(40.*mV))/ms*n : 1\n",
    "dh/dt = 0.128*exp((17.*mV-v+VT)/(18.*mV))/ms*(1.-h)-4./(1+exp((40.*mV-v+VT)/(5.*mV)))/ms*h : 1\n",
    "I : amp\n",
    "''')\n",
    "# Threshold and refractoriness are only used for spike counting\n",
    "group = NeuronGroup(N, eqs,\n",
    "                    threshold='v > -40*mV',\n",
    "                    refractory='v > -40*mV',\n",
    "                    method='exponential_euler')\n",
    "group.v = El\n",
    "group.I = '0.7*nA * i / N'\n",
    "\n",
    "monitor = SpikeMonitor(group)\n",
    "v_mon = StateMonitor(group, 'v', record=True)\n",
    "\n",
    "run(duration, report='text')"
   ]
  },
  {
   "cell_type": "code",
   "execution_count": null,
   "metadata": {},
   "outputs": [],
   "source": [
    "plt.figure()\n",
    "plt.plot(group.I/nA, monitor.count / duration, 'o-')\n",
    "plt.xlabel('I (nA)')\n",
    "plt.ylabel('Firing rate (sp/s)');"
   ]
  },
  {
   "cell_type": "code",
   "execution_count": null,
   "metadata": {},
   "outputs": [],
   "source": [
    "plt.figure()\n",
    "for idx in [50, 500]:\n",
    "    plt.plot(v_mon.t/ms, v_mon.v[idx]/mV, label=f'I={group.I[idx]/nA:.2f}nA', alpha=0.5)\n",
    "plt.legend()\n",
    "plt.xlabel('time (ms)')\n",
    "plt.ylabel('v (mV)');"
   ]
  },
  {
   "cell_type": "markdown",
   "metadata": {},
   "source": [
    "## Synapse models"
   ]
  },
  {
   "cell_type": "markdown",
   "metadata": {},
   "source": [
    "### Randomly connected network of LIF neurons"
   ]
  },
  {
   "cell_type": "code",
   "execution_count": null,
   "metadata": {},
   "outputs": [],
   "source": [
    "start_scope()\n",
    "taum = 20*ms\n",
    "taue = 5*ms\n",
    "taui = 10*ms\n",
    "Vt = -50*mV\n",
    "Vr = -60*mV\n",
    "El = -49*mV\n",
    "\n",
    "eqs = '''\n",
    "dv/dt  = (ge+gi-(v-El))/taum : volt (unless refractory)\n",
    "dge/dt = -ge/taue : volt\n",
    "dgi/dt = -gi/taui : volt\n",
    "'''\n",
    "\n",
    "P = NeuronGroup(4000, eqs, threshold='v>Vt', reset='v = Vr', refractory=5*ms,\n",
    "                method='exact')\n",
    "P.v = 'Vr + rand() * (Vt - Vr)'\n",
    "P.ge = 0*mV\n",
    "P.gi = 0*mV\n",
    "\n",
    "we = (60*0.27/10)*mV # excitatory synaptic weight (voltage)\n",
    "wi = (-20*4.5/10)*mV # inhibitory synaptic weight\n",
    "Ce = Synapses(P, P, on_pre='ge += we')\n",
    "Ci = Synapses(P, P, on_pre='gi += wi')\n",
    "Ce.connect('i<3200', p=0.02)\n",
    "Ci.connect('i>=3200', p=0.02)\n",
    "\n",
    "s_mon = SpikeMonitor(P)\n",
    "\n",
    "run(1 * second)"
   ]
  },
  {
   "cell_type": "code",
   "execution_count": null,
   "metadata": {},
   "outputs": [],
   "source": [
    "plt.figure()\n",
    "plt.plot(s_mon.t/ms, s_mon.i, ',k')\n",
    "plt.xlabel('Time (ms)')\n",
    "plt.ylabel('Neuron index');"
   ]
  },
  {
   "cell_type": "markdown",
   "metadata": {},
   "source": [
    "### Connection patterns"
   ]
  },
  {
   "cell_type": "code",
   "execution_count": null,
   "metadata": {},
   "outputs": [],
   "source": [
    "def visualise_connectivity(S):\n",
    "    Ns = len(S.source)\n",
    "    Nt = len(S.target)\n",
    "    plt.figure(figsize=(8, 4))\n",
    "    plt.subplot(121)\n",
    "    plt.plot(zeros(Ns), arange(Ns), 'ok', ms=10)\n",
    "    plt.plot(ones(Nt), arange(Nt), 'ok', ms=10)\n",
    "    for i, j in zip(S.i, S.j):\n",
    "        plt.plot([0, 1], [i, j], '-k')\n",
    "    plt.xticks([0, 1], ['Source', 'Target'])\n",
    "    plt.ylabel('Neuron index')\n",
    "    plt.xlim(-0.1, 1.1)\n",
    "    plt.ylim(-1, max(Ns, Nt))\n",
    "    plt.subplot(122)\n",
    "    plt.plot(S.i, S.j, 'ok')\n",
    "    plt.xlim(-1, Ns)\n",
    "    plt.ylim(-1, Nt)\n",
    "    plt.xlabel('Source neuron index')\n",
    "    plt.ylabel('Target neuron index')"
   ]
  },
  {
   "cell_type": "code",
   "execution_count": null,
   "metadata": {},
   "outputs": [],
   "source": [
    "# Dummy group\n",
    "N = 10\n",
    "G = NeuronGroup(N, 'v:1')"
   ]
  },
  {
   "cell_type": "code",
   "execution_count": null,
   "metadata": {
    "scrolled": true
   },
   "outputs": [],
   "source": [
    "# Random connectivity + condition\n",
    "S = Synapses(G, G)\n",
    "S.connect('i != j', p=0.5)\n",
    "visualise_connectivity(S)"
   ]
  },
  {
   "cell_type": "code",
   "execution_count": null,
   "metadata": {
    "scrolled": true
   },
   "outputs": [],
   "source": [
    "# More complex condition\n",
    "S = Synapses(G, G)\n",
    "S.connect('abs(i - j) < 3 and i != j')\n",
    "visualise_connectivity(S)"
   ]
  },
  {
   "cell_type": "code",
   "execution_count": null,
   "metadata": {},
   "outputs": [],
   "source": [
    "# More efficient with \"generator syntax\": how to calculate targets for each source cell\n",
    "S = Synapses(G, G)\n",
    "S.connect(j='k for k in range(i-3, i+4) if i!=k', skip_if_invalid=True)\n",
    "visualise_connectivity(S)"
   ]
  },
  {
   "cell_type": "code",
   "execution_count": null,
   "metadata": {},
   "outputs": [],
   "source": [
    "# Fixed number of targets for each sample\n",
    "S = Synapses(G, G)\n",
    "S.connect(j='k for k in sample(0, N_post, size=3)')\n",
    "visualise_connectivity(S)"
   ]
  },
  {
   "cell_type": "code",
   "execution_count": null,
   "metadata": {},
   "outputs": [],
   "source": [
    "# Calculated probability\n",
    "S = Synapses(G, G)\n",
    "S.connect('i != j', p='exp(-abs(i - j)/2)')\n",
    "visualise_connectivity(S)"
   ]
  },
  {
   "cell_type": "markdown",
   "metadata": {},
   "source": [
    "### Spike-timing dependent plasticity"
   ]
  },
  {
   "cell_type": "code",
   "execution_count": null,
   "metadata": {},
   "outputs": [],
   "source": [
    "start_scope()\n",
    "\n",
    "N = 1000\n",
    "taum = 10*ms; taupre = 20*ms; taupost = taupre\n",
    "Ee = 0*mV; vt = -54*mV; vr = -60*mV; El = -74*mV; taue = 5*ms\n",
    "F = 15*Hz; gmax = .01\n",
    "dApre = .01; dApost = -dApre * taupre / taupost * 1.05; dApost *= gmax; dApre *= gmax\n",
    "\n",
    "eqs_neurons = '''\n",
    "dv/dt = (ge * (Ee-v) + El - v) / taum : volt\n",
    "dge/dt = -ge / taue : 1\n",
    "'''\n",
    "\n",
    "poisson_input = PoissonGroup(N, rates=F)\n",
    "neurons = NeuronGroup(1, eqs_neurons, threshold='v>vt', reset='v = vr',\n",
    "                      method='euler')\n",
    "S = Synapses(poisson_input, neurons,\n",
    "             '''w : 1\n",
    "                dApre/dt = -Apre / taupre : 1 (event-driven)\n",
    "                dApost/dt = -Apost / taupost : 1 (event-driven)''',\n",
    "             on_pre='''ge += w\n",
    "                    Apre += dApre\n",
    "                    w = clip(w + Apost, 0, gmax)''',\n",
    "             on_post='''Apost += dApost\n",
    "                     w = clip(w + Apre, 0, gmax)''',\n",
    "             )\n",
    "S.connect()\n",
    "S.w = 'rand() * gmax'\n",
    "mon = StateMonitor(S, 'w', record=[0, 1])\n",
    "s_mon = SpikeMonitor(poisson_input)\n",
    "\n",
    "run(10*second, report='text')"
   ]
  },
  {
   "cell_type": "code",
   "execution_count": null,
   "metadata": {},
   "outputs": [],
   "source": [
    "plt.figure()\n",
    "plt.subplot(311)\n",
    "plt.plot(S.w / gmax, '.k')\n",
    "plt.ylabel('Weight / gmax')\n",
    "plt.xlabel('Synapse index')\n",
    "plt.subplot(312)\n",
    "plt.hist(S.w / gmax, 20)\n",
    "plt.xlabel('Weight / gmax')\n",
    "plt.subplot(313)\n",
    "plt.plot(mon.t/second, mon.w.T/gmax)\n",
    "plt.xlabel('Time (s)')\n",
    "plt.ylabel('Weight / gmax')\n",
    "plt.tight_layout();"
   ]
  }
 ],
 "metadata": {
  "kernelspec": {
   "display_name": "Python (brian2_py39)",
   "language": "python",
   "name": "brian2_py39"
  },
  "language_info": {
   "codemirror_mode": {
    "name": "ipython",
    "version": 3
   },
   "file_extension": ".py",
   "mimetype": "text/x-python",
   "name": "python",
   "nbconvert_exporter": "python",
   "pygments_lexer": "ipython3",
   "version": "3.9.12"
  }
 },
 "nbformat": 4,
 "nbformat_minor": 4
}
