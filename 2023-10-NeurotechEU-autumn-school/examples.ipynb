{
 "cells": [
  {
   "cell_type": "code",
   "execution_count": null,
   "metadata": {},
   "outputs": [],
   "source": [
    "from brian2 import *\n",
    "prefs.codegen.target = 'numpy'\n",
    "plt.style.use('seaborn-notebook')"
   ]
  },
  {
   "cell_type": "markdown",
   "metadata": {},
   "source": [
    "All examples (slighty adapted) from https://brian2.readthedocs.io\n",
    "\n",
    "## f/I curve of an LIF model (Examples: `IF_curve_LIF.py`)"
   ]
  },
  {
   "cell_type": "code",
   "execution_count": null,
   "metadata": {},
   "outputs": [],
   "source": [
    "start_scope()  # only necessary when running multiple examples in the same session, e.g. notebook\n",
    "\n",
    "duration = 1*second\n",
    "N_neurons = 100\n",
    "C = 200*pF\n",
    "g_L = 10*nS\n",
    "tau = C/g_L\n",
    "V_rest = -70*mV\n",
    "V_threshold = -50*mV\n",
    "V_reset = V_rest\n",
    "\n",
    "eqs = '''\n",
    "dV/dt = (I_stim +  g_L*(V_rest - V)) / C + 1/sqrt(tau)*2*mV*xi: volt (unless refractory)\n",
    "I_stim : amp (constant)\n",
    "'''\n",
    "group = NeuronGroup(N_neurons, eqs, threshold='V > V_threshold', reset='V = V_reset',\n",
    "                    refractory=5*ms, method='euler')\n",
    "group.V = 0*mV\n",
    "group.I_stim = '1*nA * i / (N_neurons-1)'\n",
    "\n",
    "monitor = SpikeMonitor(group)\n",
    "v_monitor = StateMonitor(group, 'V', record=True)\n",
    "run(duration)"
   ]
  },
  {
   "cell_type": "code",
   "execution_count": null,
   "metadata": {},
   "outputs": [],
   "source": [
    "fig, ax = plt.subplots()\n",
    "ax.plot(group.I_stim/nA, monitor.count/duration)\n",
    "ax.set(xlabel='input current (nA)', ylabel='firing rate (spikes/second)');"
   ]
  },
  {
   "cell_type": "markdown",
   "metadata": {},
   "source": [
    "---\n",
    "\n",
    "\n",
    "## Randomly connected network with exponential, current-based synapses\n",
    "### Examples: `CUBA.py`"
   ]
  },
  {
   "cell_type": "code",
   "execution_count": null,
   "metadata": {},
   "outputs": [],
   "source": [
    "start_scope()\n",
    "\n",
    "taum = 20*ms\n",
    "taue = 5*ms\n",
    "taui = 10*ms\n",
    "Vt = -50*mV\n",
    "Vr = -60*mV\n",
    "El = -65*mV\n",
    "I_ext = 16*mV\n",
    "\n",
    "eqs = '''\n",
    "dv/dt  = ((El - v) + I_e + I_i + I_ext)/taum : volt (unless refractory)\n",
    "dI_e/dt = -I_e/taue : volt\n",
    "dI_i/dt = -I_i/taui : volt\n",
    "'''\n",
    "\n",
    "P = NeuronGroup(4000, eqs, threshold='v>Vt', reset='v = Vr', refractory=5*ms,\n",
    "                method='exact')\n",
    "P.v = 'Vr + rand() * (Vt - Vr)'\n",
    "\n",
    "we = 1.62*mV  # excitatory weight\n",
    "wi = -9*mV    # inhibitory weight\n",
    "Ce = Synapses(P[:3200], P, on_pre='I_e += we')\n",
    "Ci = Synapses(P[3200:], P, on_pre='I_i += wi')\n",
    "Ce.connect(p=0.02)\n",
    "Ci.connect(p=0.02)\n",
    "\n",
    "s_mon = SpikeMonitor(P)\n",
    "state_mon = StateMonitor(P, ['v', 'I_e', 'I_i'], record=0)\n",
    "run(1 * second, report='text')"
   ]
  },
  {
   "cell_type": "code",
   "execution_count": null,
   "metadata": {},
   "outputs": [],
   "source": [
    "plt.plot(s_mon.t/ms, s_mon.i, ',k')\n",
    "plt.xlabel('Time (ms)')\n",
    "plt.ylabel('Neuron index');"
   ]
  },
  {
   "cell_type": "code",
   "execution_count": null,
   "metadata": {},
   "outputs": [],
   "source": [
    "fig, axs = plt.subplots(3, 1, sharex=True)\n",
    "axs[0].plot(state_mon.t/ms, state_mon.v[0]/mV)\n",
    "axs[0].vlines(s_mon.spike_trains()[0]/ms, Vt/mV, 0)\n",
    "\n",
    "axs[1].plot(state_mon.t/ms, state_mon.I_e[0]/mV, color='C1')\n",
    "axs[1].plot(state_mon.t/ms, state_mon.I_i[0]/mV, color='C2')\n",
    "\n",
    "axs[2].axhline(0, color='gray', ls=':')\n",
    "axs[2].plot(state_mon.t/ms, state_mon.I_e[0]/mV + state_mon.I_i[0]/mV, color='C0')"
   ]
  },
  {
   "cell_type": "markdown",
   "metadata": {},
   "source": [
    "---\n",
    "\n",
    "## Spike-timing dependent plasticity\n",
    "### Examples: synapses → `STDP.py`"
   ]
  },
  {
   "cell_type": "code",
   "execution_count": null,
   "metadata": {},
   "outputs": [],
   "source": [
    "start_scope()\n",
    "\n",
    "N = 1000\n",
    "taum = 10*ms\n",
    "taupre = 20*ms\n",
    "taupost = taupre\n",
    "Ee = 0*mV\n",
    "vt = -54*mV\n",
    "vr = -60*mV\n",
    "El = -74*mV\n",
    "taue = 5*ms\n",
    "F = 15*Hz\n",
    "gmax = .01\n",
    "dApre = .01\n",
    "dApost = -dApre * taupre / taupost * 1.05\n",
    "dApost *= gmax\n",
    "dApre *= gmax\n",
    "\n",
    "eqs_neurons = '''\n",
    "dv/dt = (ge * (Ee-v) + El - v) / taum : volt\n",
    "dge/dt = -ge / taue : 1\n",
    "'''\n",
    "\n",
    "input_spikes = PoissonGroup(N, rates=F)\n",
    "neurons = NeuronGroup(1, eqs_neurons, threshold='v>vt', reset='v = vr',\n",
    "                      method='euler')\n",
    "S = Synapses(input_spikes, neurons,\n",
    "             '''w : 1\n",
    "                dApre/dt = -Apre / taupre : 1 (event-driven)\n",
    "                dApost/dt = -Apost / taupost : 1 (event-driven)''',\n",
    "             on_pre='''ge += w\n",
    "                    Apre += dApre\n",
    "                    w = clip(w + Apost, 0, gmax)''',\n",
    "             on_post='''Apost += dApost\n",
    "                     w = clip(w + Apre, 0, gmax)''',\n",
    "             )\n",
    "S.connect()\n",
    "S.w = 'rand() * gmax'\n",
    "mon = StateMonitor(S, 'w', record=[0, 1])\n",
    "s_mon = SpikeMonitor(input_spikes)\n",
    "\n",
    "run(50*second, report='text')"
   ]
  },
  {
   "cell_type": "code",
   "execution_count": null,
   "metadata": {},
   "outputs": [],
   "source": [
    "fig, axs = plt.subplots(3, 1, layout='constrained')\n",
    "axs[0].plot(S.w / gmax, '.k')\n",
    "axs[0].set(xlabel='Synapse index', ylabel='Weight / gmax')\n",
    "\n",
    "axs[1].hist(S.w / gmax, 20)\n",
    "axs[1].set(ylabel='Weight / gmax')\n",
    "\n",
    "axs[2].plot(mon.t/second, mon.w.T/gmax)\n",
    "axs[2].set(xlabel='Time (s)', ylabel='Weight / gmax')"
   ]
  }
 ],
 "metadata": {
  "kernelspec": {
   "display_name": "Python (brian2_py39)",
   "language": "python",
   "name": "brian2_py39"
  },
  "language_info": {
   "codemirror_mode": {
    "name": "ipython",
    "version": 3
   },
   "file_extension": ".py",
   "mimetype": "text/x-python",
   "name": "python",
   "nbconvert_exporter": "python",
   "pygments_lexer": "ipython3",
   "version": "3.9.12"
  }
 },
 "nbformat": 4,
 "nbformat_minor": 2
}
