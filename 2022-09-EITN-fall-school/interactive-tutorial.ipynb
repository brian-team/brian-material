{
 "cells": [
  {
   "cell_type": "code",
   "execution_count": null,
   "metadata": {},
   "outputs": [],
   "source": [
    "from brian2 import *\n",
    "prefs.codegen.target = 'numpy'  # Switches off C++ code generation"
   ]
  },
  {
   "cell_type": "markdown",
   "metadata": {},
   "source": [
    "All examples (slighty adapted) from https://brian2.readthedocs.io\n",
    "\n",
    "## f/I curve of an LIF model (Examples: `IF_curve_LIF.py`)"
   ]
  },
  {
   "cell_type": "code",
   "execution_count": null,
   "metadata": {},
   "outputs": [],
   "source": [
    "start_scope()  # only necessary when running multiple examples in the same session, e.g. notebook\n",
    "\n",
    "N_neurons = 100\n",
    "C = 200*pF\n",
    "g_L = 10*nS\n",
    "V_rest = -70*mV\n",
    "V_threshold = -50*mV\n",
    "V_reset = V_rest\n",
    "duration = 1*second\n",
    "\n",
    "eqs = '''\n",
    "dV/dt = (I_stim + g_L*(V_rest - V)) / C : volt (unless refractory)\n",
    "I_stim : amp (constant)\n",
    "'''\n",
    "group = NeuronGroup(N_neurons, eqs, threshold='V > V_threshold', reset='V = V_reset',\n",
    "                    refractory=5*ms, method='exact')\n",
    "group.V = 0*mV\n",
    "group.I_stim = '0.4*nA * i / (N_neurons-1)'\n",
    "monitor = SpikeMonitor(group)\n",
    "\n",
    "run(duration)"
   ]
  },
  {
   "cell_type": "code",
   "execution_count": null,
   "metadata": {},
   "outputs": [],
   "source": [
    "plt.plot(group.I_stim/nA, monitor.count / duration)\n",
    "plt.xlabel(r'$I_\\mathrm{stim}$ (nA)')\n",
    "plt.ylabel('Firing rate (sp/s)');"
   ]
  },
  {
   "cell_type": "markdown",
   "metadata": {},
   "source": [
    "## Randomly connected network with exponential, current-based synapses\n",
    "### Examples: `CUBA.py`"
   ]
  },
  {
   "cell_type": "code",
   "execution_count": null,
   "metadata": {},
   "outputs": [],
   "source": [
    "start_scope()\n",
    "\n",
    "taum = 20*ms\n",
    "taue = 5*ms\n",
    "taui = 10*ms\n",
    "Vt = -50*mV\n",
    "Vr = -60*mV\n",
    "El = -49*mV\n",
    "\n",
    "eqs = '''\n",
    "dv/dt  = (ge+gi-(v-El))/taum : volt (unless refractory)\n",
    "dge/dt = -ge/taue : volt\n",
    "dgi/dt = -gi/taui : volt\n",
    "'''\n",
    "\n",
    "P = NeuronGroup(4000, eqs, threshold='v>Vt', reset='v = Vr', refractory=5*ms,\n",
    "                method='exact')\n",
    "P.v = 'Vr + rand() * (Vt - Vr)'\n",
    "P.ge = 0*mV\n",
    "P.gi = 0*mV\n",
    "\n",
    "we = (60*0.27/10)*mV # excitatory synaptic weight (voltage)\n",
    "wi = (-20*4.5/10)*mV # inhibitory synaptic weight\n",
    "Ce = Synapses(P, P, on_pre='ge += we')\n",
    "Ci = Synapses(P, P, on_pre='gi += wi')\n",
    "Ce.connect('i<3200', p=0.02)\n",
    "Ci.connect('i>=3200', p=0.02)\n",
    "\n",
    "s_mon = SpikeMonitor(P)\n",
    "\n",
    "run(1 * second, report='text')"
   ]
  },
  {
   "cell_type": "code",
   "execution_count": null,
   "metadata": {},
   "outputs": [],
   "source": [
    "plt.plot(s_mon.t/ms, s_mon.i, ',k')\n",
    "plt.xlabel('Time (ms)')\n",
    "plt.ylabel('Neuron index');"
   ]
  },
  {
   "cell_type": "markdown",
   "metadata": {},
   "source": [
    "## Spike-timing dependent plasticity\n",
    "### Examples: synapses → `STDP.py`"
   ]
  },
  {
   "cell_type": "code",
   "execution_count": null,
   "metadata": {},
   "outputs": [],
   "source": [
    "start_scope()\n",
    "\n",
    "N = 1000\n",
    "taum = 10*ms\n",
    "taupre = 20*ms\n",
    "taupost = taupre\n",
    "Ee = 0*mV\n",
    "vt = -54*mV\n",
    "vr = -60*mV\n",
    "El = -74*mV\n",
    "taue = 5*ms\n",
    "F = 15*Hz\n",
    "gmax = .01\n",
    "dApre = .01\n",
    "dApost = -dApre * taupre / taupost * 1.05\n",
    "dApost *= gmax\n",
    "dApre *= gmax\n",
    "\n",
    "eqs_neurons = '''\n",
    "dv/dt = (ge * (Ee-v) + El - v) / taum : volt\n",
    "dge/dt = -ge / taue : 1\n",
    "'''\n",
    "\n",
    "input = PoissonGroup(N, rates=F)\n",
    "neurons = NeuronGroup(1, eqs_neurons, threshold='v>vt', reset='v = vr',\n",
    "                      method='euler')\n",
    "S = Synapses(input, neurons,\n",
    "             '''w : 1\n",
    "                dApre/dt = -Apre / taupre : 1 (event-driven)\n",
    "                dApost/dt = -Apost / taupost : 1 (event-driven)''',\n",
    "             on_pre='''ge += w\n",
    "                    Apre += dApre\n",
    "                    w = clip(w + Apost, 0, gmax)''',\n",
    "             on_post='''Apost += dApost\n",
    "                     w = clip(w + Apre, 0, gmax)''',\n",
    "             )\n",
    "S.connect()\n",
    "S.w = 'rand() * gmax'\n",
    "mon = StateMonitor(S, 'w', record=[0, 1])\n",
    "s_mon = SpikeMonitor(input)\n",
    "\n",
    "run(50*second, report='text')"
   ]
  },
  {
   "cell_type": "code",
   "execution_count": null,
   "metadata": {},
   "outputs": [],
   "source": [
    "plt.subplot(311)\n",
    "plt.plot(S.w / gmax, '.k')\n",
    "plt.ylabel('Weight / gmax')\n",
    "plt.xlabel('Synapse index')\n",
    "plt.subplot(312)\n",
    "plt.hist(S.w / gmax, 20)\n",
    "plt.ylabel('Weight / gmax')\n",
    "plt.subplot(313)\n",
    "plt.plot(mon.t/second, mon.w.T/gmax)\n",
    "plt.xlabel('Time (s)')\n",
    "plt.ylabel('Weight / gmax')\n",
    "plt.tight_layout()"
   ]
  }
 ],
 "metadata": {
  "kernelspec": {
   "display_name": "Python 3 (ipykernel)",
   "language": "python",
   "name": "python3"
  },
  "language_info": {
   "codemirror_mode": {
    "name": "ipython",
    "version": 3
   },
   "file_extension": ".py",
   "mimetype": "text/x-python",
   "name": "python",
   "nbconvert_exporter": "python",
   "pygments_lexer": "ipython3",
   "version": "3.9.12"
  }
 },
 "nbformat": 4,
 "nbformat_minor": 2
}
